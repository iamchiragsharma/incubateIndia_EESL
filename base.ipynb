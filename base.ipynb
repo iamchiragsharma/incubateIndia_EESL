{
 "cells": [
  {
   "cell_type": "code",
   "execution_count": 7,
   "metadata": {},
   "outputs": [],
   "source": [
    "import pandas as pd\n",
    "import matplotlib.pyplot as plt\n",
    "matplotlib.rcParams[''] = 'times new roman'"
   ]
  },
  {
   "cell_type": "code",
   "execution_count": 18,
   "metadata": {},
   "outputs": [
    {
     "data": {
      "text/html": [
       "<div>\n",
       "<style scoped>\n",
       "    .dataframe tbody tr th:only-of-type {\n",
       "        vertical-align: middle;\n",
       "    }\n",
       "\n",
       "    .dataframe tbody tr th {\n",
       "        vertical-align: top;\n",
       "    }\n",
       "\n",
       "    .dataframe thead th {\n",
       "        text-align: right;\n",
       "    }\n",
       "</style>\n",
       "<table border=\"1\" class=\"dataframe\">\n",
       "  <thead>\n",
       "    <tr style=\"text-align: right;\">\n",
       "      <th></th>\n",
       "      <th>CCMS ID</th>\n",
       "      <th>Timestamp</th>\n",
       "      <th>Cum kwh</th>\n",
       "      <th>Cum kVAh</th>\n",
       "      <th>Meter ON Duration</th>\n",
       "      <th>Relay ON Duration</th>\n",
       "    </tr>\n",
       "  </thead>\n",
       "  <tbody>\n",
       "    <tr>\n",
       "      <th>0</th>\n",
       "      <td>SMR03-0219-0252</td>\n",
       "      <td>2019-05-01 00:00:00</td>\n",
       "      <td>7280.030</td>\n",
       "      <td>7323.073</td>\n",
       "      <td>1592:54:22</td>\n",
       "      <td>781:25:13</td>\n",
       "    </tr>\n",
       "    <tr>\n",
       "      <th>1</th>\n",
       "      <td>SMR03-0219-0252</td>\n",
       "      <td>2019-04-30 00:00:00</td>\n",
       "      <td>7226.961</td>\n",
       "      <td>7269.618</td>\n",
       "      <td>1569:39:21</td>\n",
       "      <td>771:11:56</td>\n",
       "    </tr>\n",
       "    <tr>\n",
       "      <th>2</th>\n",
       "      <td>SMR03-0219-0252</td>\n",
       "      <td>2019-04-29 00:00:00</td>\n",
       "      <td>7172.506</td>\n",
       "      <td>7214.758</td>\n",
       "      <td>1546:19:51</td>\n",
       "      <td>760:46:36</td>\n",
       "    </tr>\n",
       "    <tr>\n",
       "      <th>3</th>\n",
       "      <td>SMR03-0219-0252</td>\n",
       "      <td>2019-04-28 00:00:00</td>\n",
       "      <td>7117.089</td>\n",
       "      <td>7158.920</td>\n",
       "      <td>1522:21:22</td>\n",
       "      <td>749:57:58</td>\n",
       "    </tr>\n",
       "    <tr>\n",
       "      <th>4</th>\n",
       "      <td>SMR03-0219-0252</td>\n",
       "      <td>2019-04-27 00:00:00</td>\n",
       "      <td>7064.595</td>\n",
       "      <td>7106.040</td>\n",
       "      <td>1498:22:42</td>\n",
       "      <td>738:36:55</td>\n",
       "    </tr>\n",
       "  </tbody>\n",
       "</table>\n",
       "</div>"
      ],
      "text/plain": [
       "           CCMS ID            Timestamp   Cum kwh  Cum kVAh Meter ON Duration  \\\n",
       "0  SMR03-0219-0252  2019-05-01 00:00:00  7280.030  7323.073        1592:54:22   \n",
       "1  SMR03-0219-0252  2019-04-30 00:00:00  7226.961  7269.618        1569:39:21   \n",
       "2  SMR03-0219-0252  2019-04-29 00:00:00  7172.506  7214.758        1546:19:51   \n",
       "3  SMR03-0219-0252  2019-04-28 00:00:00  7117.089  7158.920        1522:21:22   \n",
       "4  SMR03-0219-0252  2019-04-27 00:00:00  7064.595  7106.040        1498:22:42   \n",
       "\n",
       "  Relay ON Duration  \n",
       "0         781:25:13  \n",
       "1         771:11:56  \n",
       "2         760:46:36  \n",
       "3         749:57:58  \n",
       "4         738:36:55  "
      ]
     },
     "execution_count": 18,
     "metadata": {},
     "output_type": "execute_result"
    }
   ],
   "source": [
    "df = pd.read_csv(\"daily.csv\")\n",
    "df.head()"
   ]
  },
  {
   "cell_type": "code",
   "execution_count": 15,
   "metadata": {},
   "outputs": [
    {
     "name": "stdout",
     "output_type": "stream",
     "text": [
      "(31,)\n",
      "(31,)\n"
     ]
    }
   ],
   "source": [
    "df\n",
    "x = df['Timestamp']\n",
    "y = df['Meter ON Duration']\n",
    "print(y.shape)\n",
    "print(x.shape)"
   ]
  },
  {
   "cell_type": "code",
   "execution_count": 21,
   "metadata": {},
   "outputs": [
    {
     "data": {
      "text/plain": [
       "<Figure size 720x1440 with 0 Axes>"
      ]
     },
     "execution_count": 21,
     "metadata": {},
     "output_type": "execute_result"
    },
    {
     "data": {
      "text/plain": [
       "<Figure size 720x1440 with 0 Axes>"
      ]
     },
     "metadata": {},
     "output_type": "display_data"
    }
   ],
   "source": [
    "plt.figure(figsize=(10,20))\n",
    "#plt.plot(x,y)"
   ]
  },
  {
   "cell_type": "code",
   "execution_count": 22,
   "metadata": {},
   "outputs": [
    {
     "data": {
      "text/plain": [
       "[<matplotlib.lines.Line2D at 0x7f06456dcd68>]"
      ]
     },
     "execution_count": 22,
     "metadata": {},
     "output_type": "execute_result"
    },
    {
     "data": {
      "image/png": "[encoded data removed]",
      "text/plain": [
       "<Figure size 432x288 with 1 Axes>"
      ]
     },
     "metadata": {
      "needs_background": "light"
     },
     "output_type": "display_data"
    }
   ],
   "source": [
    "x = df['Cum kwh']\n",
    "y = df['Cum kVAh']\n",
    "plt.plot(x,y)"
   ]
  },
  {
   "cell_type": "code",
   "execution_count": 29,
   "metadata": {},
   "outputs": [],
   "source": [
    "pchange =  df['Relay ON Duration'].tolist()"
   ]
  },
  {
   "cell_type": "code",
   "execution_count": 28,
   "metadata": {},
   "outputs": [],
   "source": [
    "import re"
   ]
  },
  {
   "cell_type": "code",
   "execution_count": null,
   "metadata": {},
   "outputs": [],
   "source": [
    "pchange  = "
   ]
  }
 ],
 "metadata": {
  "kernelspec": {
   "display_name": "Python 3",
   "language": "python",
   "name": "python3"
  },
  "language_info": {
   "codemirror_mode": {
    "name": "ipython",
    "version": 3
   },
   "file_extension": ".py",
   "mimetype": "text/x-python",
   "name": "python",
   "nbconvert_exporter": "python",
   "pygments_lexer": "ipython3",
   "version": "3.7.3"
  }
 },
 "nbformat": 4,
 "nbformat_minor": 2
}
